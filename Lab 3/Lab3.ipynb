{
 "cells": [
  {
   "cell_type": "code",
   "execution_count": 50,
   "id": "84d0086cbaa1a2ff",
   "metadata": {
    "ExecuteTime": {
     "end_time": "2024-08-09T08:16:26.127622Z",
     "start_time": "2024-08-09T08:15:36.329276Z"
    }
   },
   "outputs": [],
   "source": [
    "import os\n",
    "import cv2\n",
    "import numpy as np\n",
    "import matplotlib.pyplot as plt\n",
    "from sklearn.model_selection import train_test_split    \n",
    "from sklearn.neighbors import KNeighborsClassifier\n",
    "from sklearn.metrics import accuracy_score\n",
    "from concurrent.futures import ThreadPoolExecutor, as_completed\n",
    "import pandas as pd\n",
    "\n",
    "fake_dir = \"E:\\\\College\\\\5th Sem\\\\ML\\\\Lab\\\\MLProject\\\\train\\\\FAKE\"\n",
    "real_dir = \"E:\\\\College\\\\5th Sem\\\\ML\\\\Lab\\\\MLProject\\\\train\\\\REAL\"\n",
    "    \n",
    "num_images_to_load = 10000"
   ]
  },
  {
   "cell_type": "code",
   "execution_count": 51,
   "id": "d1b600c5",
   "metadata": {},
   "outputs": [],
   "source": [
    "def to_gray(image):\n",
    "    return cv2.cvtColor(image, cv2.COLOR_BGR2GRAY)"
   ]
  },
  {
   "cell_type": "code",
   "execution_count": 52,
   "id": "b39a0a05",
   "metadata": {},
   "outputs": [],
   "source": [
    "def n_blocks(arr, tile_size=4):\n",
    "    rows, cols = arr.shape\n",
    "\n",
    "    tilings = [arr[i:i + tile_size, j:j + tile_size] for i in range(0, rows, tile_size) for j in range(0, cols, tile_size)]\n",
    "    # print(tilings)\n",
    "    return np.array(tilings)"
   ]
  },
  {
   "cell_type": "code",
   "execution_count": 53,
   "id": "1893f15a",
   "metadata": {},
   "outputs": [],
   "source": [
    "def block_mean_var(arr):\n",
    "    means_vars = []\n",
    "    for block in arr:\n",
    "        means_vars.append([np.mean(block) , np.var(block)])\n",
    "    return np.array(means_vars)"
   ]
  },
  {
   "cell_type": "code",
   "execution_count": 54,
   "id": "0913ac2f",
   "metadata": {},
   "outputs": [],
   "source": [
    "def img_features(img):\n",
    "    blocks = n_blocks(img)\n",
    "    return block_mean_var(blocks)"
   ]
  },
  {
   "cell_type": "code",
   "execution_count": 55,
   "id": "b368ed02",
   "metadata": {},
   "outputs": [],
   "source": [
    "def load_img_and_extract_features(filepath, label):\n",
    "    img = cv2.imread(filepath)\n",
    "    gray_img = to_gray(img)\n",
    "    features = img_features(gray_img)\n",
    "    return [i[0] for i in features],[i[1] for i in features], label"
   ]
  },
  {
   "cell_type": "code",
   "execution_count": 56,
   "id": "b6b58bfb",
   "metadata": {},
   "outputs": [],
   "source": [
    "def load_imgs_from_directory(directory, label, num_images=None):\n",
    "    images_m = []\n",
    "    images_v = []\n",
    "    labels = []\n",
    "    files = os.listdir(directory)\n",
    "    \n",
    "        \n",
    "    for i in files[:num_images]:\n",
    "        mean, var, lbl = load_img_and_extract_features(os.path.join(directory, i), label)\n",
    "        images_m.append(mean)\n",
    "        images_v.append(var)\n",
    "        labels.append(lbl)\n",
    "    return images_m, images_v, labels"
   ]
  },
  {
   "cell_type": "code",
   "execution_count": 57,
   "id": "853ff57d",
   "metadata": {},
   "outputs": [
    {
     "name": "stdout",
     "output_type": "stream",
     "text": [
      "Mean of 1th block of real images :- 133.39768125\n",
      "Mean of 1th block of fake images :- 102.15253125\n",
      "Std of 1th block of real images :- 67.82628748673167\n",
      "Std of 1th block of fake images :- 55.80225339381152\n",
      "Mean of 2th block of real images :- 134.60771875\n",
      "Mean of 2th block of fake images :- 109.4345125\n",
      "Std of 2th block of real images :- 65.41746641904227\n",
      "Std of 2th block of fake images :- 53.556349643796615\n",
      "Mean of 3th block of real images :- 136.42166875\n",
      "Mean of 3th block of fake images :- 112.78051875\n",
      "Std of 3th block of real images :- 63.696315310519715\n",
      "Std of 3th block of fake images :- 52.21041391657677\n",
      "Mean of 4th block of real images :- 137.201425\n",
      "Mean of 4th block of fake images :- 114.43456875\n",
      "Std of 4th block of real images :- 63.26674892370893\n",
      "Std of 4th block of fake images :- 51.49701636155389\n",
      "Mean of 5th block of real images :- 137.35331875\n",
      "Mean of 5th block of fake images :- 114.5045\n",
      "Std of 5th block of real images :- 63.16071521079399\n",
      "Std of 5th block of fake images :- 51.6796009462994\n",
      "Mean of 6th block of real images :- 136.64249375\n",
      "Mean of 6th block of fake images :- 113.129225\n",
      "Std of 6th block of real images :- 63.86191781871522\n",
      "Std of 6th block of fake images :- 52.24118124704758\n",
      "Mean of 7th block of real images :- 135.42211875\n",
      "Mean of 7th block of fake images :- 109.6141\n",
      "Std of 7th block of real images :- 65.22630505278545\n",
      "Std of 7th block of fake images :- 53.068761018453685\n",
      "Mean of 8th block of real images :- 133.7005\n",
      "Mean of 8th block of fake images :- 103.2323625\n",
      "Std of 8th block of real images :- 67.6276149718534\n",
      "Std of 8th block of fake images :- 55.3873884055508\n"
     ]
    },
    {
     "data": {
      "image/png": "[encoded data removed]",
      "text/plain": [
       "<Figure size 640x480 with 1 Axes>"
      ]
     },
     "metadata": {},
     "output_type": "display_data"
    }
   ],
   "source": [
    "import matplotlib.pyplot as plt \n",
    "\n",
    "fake_images_m,fake_images_v, fake_labels = load_imgs_from_directory(fake_dir, 0, num_images=num_images_to_load)\n",
    "real_images_m,real_images_v, real_labels = load_imgs_from_directory(real_dir, 1, num_images=num_images_to_load)\n",
    "for j in range(8):\n",
    "    a=[i[j] for i in real_images_m]\n",
    "    b=[i[j] for i in fake_images_m]\n",
    "    print(\"Mean of \"+str(j+1)+\"th block of real images :- \" + str(np.mean(a)))\n",
    "    print(\"Mean of \"+str(j+1)+\"th block of fake images :- \" + str(np.mean(b)))\n",
    "    print(\"Std of \"+str(j+1)+\"th block of real images :- \" + str(np.std(a)))\n",
    "    print(\"Std of \"+str(j+1)+\"th block of fake images :- \" + str(np.std(b)))\n",
    "    # print(\"Distance between \"+str(j+1)+\"th block mean of fake images and real :- \" + str(np.linalg.norm(a-b)))\n",
    "\n",
    "a=[i[j] for i in real_images_m]\n",
    "b=[i[j] for i in fake_images_m]\n",
    "plt.hist(x=a, bins=30, color='skyblue')\n",
    "plt.hist(x=b, bins=30, color='orange')\n",
    " \n",
    "plt.xlabel('Values')\n",
    "plt.ylabel('Frequency')\n",
    "plt.title('Basic Histogram')\n",
    "plt.show()\n",
    "\n",
    "features_m = np.vstack((fake_images_m, real_images_m))\n",
    "features_v = np.vstack((fake_images_v, real_images_v))\n",
    "labels = np.concatenate((fake_labels, real_labels))"
   ]
  },
  {
   "cell_type": "code",
   "execution_count": 58,
   "id": "cd0c1f60",
   "metadata": {},
   "outputs": [],
   "source": [
    "def feature_vec(mean, var):\n",
    "    a=[]\n",
    "    for i,j in zip(mean, var):\n",
    "        b=[]\n",
    "        for k,l in zip(i,j):\n",
    "            b.append(k)\n",
    "            b.append(l)\n",
    "        a.append(b)\n",
    "    return a"
   ]
  },
  {
   "cell_type": "code",
   "execution_count": 59,
   "id": "9e95bd0a",
   "metadata": {},
   "outputs": [
    {
     "data": {
      "image/png": "[encoded data removed]",
      "text/plain": [
       "<Figure size 640x480 with 1 Axes>"
      ]
     },
     "metadata": {},
     "output_type": "display_data"
    }
   ],
   "source": [
    "from scipy.spatial.distance import minkowski\n",
    "import matplotlib.pyplot as plt\n",
    "real_feat_vec = feature_vec(real_images_m, real_images_v)\n",
    "fake_feat_vec = feature_vec(fake_images_m, fake_images_v)\n",
    "\n",
    "r_values = range(1, 11)\n",
    "distances = [minkowski(real_feat_vec[0], fake_feat_vec[0], r) for r in r_values]\n",
    "\n",
    "plt.plot(r_values, distances, marker='o')\n",
    "plt.xlabel('r value')\n",
    "plt.ylabel('Minkowski Distance')\n",
    "plt.title('Minkowski Distance vs r')\n",
    "plt.grid(True)\n",
    "plt.show()"
   ]
  },
  {
   "cell_type": "code",
   "execution_count": 60,
   "id": "d869dd69",
   "metadata": {},
   "outputs": [
    {
     "name": "stdout",
     "output_type": "stream",
     "text": [
      "Accuracy: 0.6607\n",
      "Training Accuracy: 0.8249\n"
     ]
    },
    {
     "data": {
      "text/html": [
       "<div>\n",
       "<style scoped>\n",
       "    .dataframe tbody tr th:only-of-type {\n",
       "        vertical-align: middle;\n",
       "    }\n",
       "\n",
       "    .dataframe tbody tr th {\n",
       "        vertical-align: top;\n",
       "    }\n",
       "\n",
       "    .dataframe thead th {\n",
       "        text-align: right;\n",
       "    }\n",
       "</style>\n",
       "<table border=\"1\" class=\"dataframe\">\n",
       "  <thead>\n",
       "    <tr style=\"text-align: right;\">\n",
       "      <th></th>\n",
       "      <th>Actual</th>\n",
       "      <th>Predicted</th>\n",
       "    </tr>\n",
       "  </thead>\n",
       "  <tbody>\n",
       "    <tr>\n",
       "      <th>0</th>\n",
       "      <td>1</td>\n",
       "      <td>1</td>\n",
       "    </tr>\n",
       "    <tr>\n",
       "      <th>1</th>\n",
       "      <td>0</td>\n",
       "      <td>0</td>\n",
       "    </tr>\n",
       "    <tr>\n",
       "      <th>2</th>\n",
       "      <td>0</td>\n",
       "      <td>0</td>\n",
       "    </tr>\n",
       "    <tr>\n",
       "      <th>3</th>\n",
       "      <td>0</td>\n",
       "      <td>0</td>\n",
       "    </tr>\n",
       "    <tr>\n",
       "      <th>4</th>\n",
       "      <td>1</td>\n",
       "      <td>1</td>\n",
       "    </tr>\n",
       "    <tr>\n",
       "      <th>5</th>\n",
       "      <td>0</td>\n",
       "      <td>0</td>\n",
       "    </tr>\n",
       "    <tr>\n",
       "      <th>6</th>\n",
       "      <td>0</td>\n",
       "      <td>0</td>\n",
       "    </tr>\n",
       "    <tr>\n",
       "      <th>7</th>\n",
       "      <td>0</td>\n",
       "      <td>0</td>\n",
       "    </tr>\n",
       "    <tr>\n",
       "      <th>8</th>\n",
       "      <td>0</td>\n",
       "      <td>0</td>\n",
       "    </tr>\n",
       "    <tr>\n",
       "      <th>9</th>\n",
       "      <td>0</td>\n",
       "      <td>0</td>\n",
       "    </tr>\n",
       "    <tr>\n",
       "      <th>10</th>\n",
       "      <td>1</td>\n",
       "      <td>1</td>\n",
       "    </tr>\n",
       "    <tr>\n",
       "      <th>11</th>\n",
       "      <td>0</td>\n",
       "      <td>0</td>\n",
       "    </tr>\n",
       "    <tr>\n",
       "      <th>12</th>\n",
       "      <td>1</td>\n",
       "      <td>0</td>\n",
       "    </tr>\n",
       "    <tr>\n",
       "      <th>13</th>\n",
       "      <td>0</td>\n",
       "      <td>0</td>\n",
       "    </tr>\n",
       "    <tr>\n",
       "      <th>14</th>\n",
       "      <td>0</td>\n",
       "      <td>1</td>\n",
       "    </tr>\n",
       "    <tr>\n",
       "      <th>15</th>\n",
       "      <td>0</td>\n",
       "      <td>0</td>\n",
       "    </tr>\n",
       "    <tr>\n",
       "      <th>16</th>\n",
       "      <td>0</td>\n",
       "      <td>0</td>\n",
       "    </tr>\n",
       "    <tr>\n",
       "      <th>17</th>\n",
       "      <td>1</td>\n",
       "      <td>1</td>\n",
       "    </tr>\n",
       "    <tr>\n",
       "      <th>18</th>\n",
       "      <td>1</td>\n",
       "      <td>0</td>\n",
       "    </tr>\n",
       "    <tr>\n",
       "      <th>19</th>\n",
       "      <td>0</td>\n",
       "      <td>0</td>\n",
       "    </tr>\n",
       "  </tbody>\n",
       "</table>\n",
       "</div>"
      ],
      "text/plain": [
       "    Actual  Predicted\n",
       "0        1          1\n",
       "1        0          0\n",
       "2        0          0\n",
       "3        0          0\n",
       "4        1          1\n",
       "5        0          0\n",
       "6        0          0\n",
       "7        0          0\n",
       "8        0          0\n",
       "9        0          0\n",
       "10       1          1\n",
       "11       0          0\n",
       "12       1          0\n",
       "13       0          0\n",
       "14       0          1\n",
       "15       0          0\n",
       "16       0          0\n",
       "17       1          1\n",
       "18       1          0\n",
       "19       0          0"
      ]
     },
     "execution_count": 60,
     "metadata": {},
     "output_type": "execute_result"
    }
   ],
   "source": [
    "x_train, x_test, y_train, y_test = train_test_split(features_m, labels, test_size=0.5, random_state=5)\n",
    "\n",
    "knn = KNeighborsClassifier(n_neighbors=3)\n",
    "knn.fit(x_train, y_train)\n",
    "\n",
    "accuracy = knn.score(x_test, y_test)\n",
    "print(\"Accuracy:\", accuracy)\n",
    "\n",
    "training_accuracy = knn.score(x_train, y_train)\n",
    "print(f\"Training Accuracy: {training_accuracy}\")\n",
    "predictions = knn.predict(x_test[:20])\n",
    "actual_labels = y_test[:20]\n",
    "\n",
    "# for i in range(len(predictions)):\n",
    "#     print(f\"Predicted: {predictions[i]}\\tActual: {actual_labels[i]}\")   \n",
    "\n",
    "predicted_vs_actual = pd.DataFrame({\"Actual\": actual_labels, \"Predicted\": predictions})\n",
    "predicted_vs_actual"
   ]
  },
  {
   "cell_type": "code",
   "execution_count": 63,
   "id": "initial_id",
   "metadata": {
    "ExecuteTime": {
     "end_time": "2024-08-09T08:16:57.378528Z",
     "start_time": "2024-08-09T08:16:26.129575Z"
    }
   },
   "outputs": [
    {
     "ename": "TypeError",
     "evalue": "'module' object is not callable",
     "output_type": "error",
     "traceback": [
      "\u001b[1;31m---------------------------------------------------------------------------\u001b[0m",
      "\u001b[1;31mTypeError\u001b[0m                                 Traceback (most recent call last)",
      "Cell \u001b[1;32mIn[63], line 17\u001b[0m\n\u001b[0;32m     12\u001b[0m     \u001b[38;5;66;03m# print(f\"Accuracy for k={k}: {accuracy}\")  \u001b[39;00m\n\u001b[0;32m     14\u001b[0m accuracies_df \u001b[38;5;241m=\u001b[39m pd\u001b[38;5;241m.\u001b[39mDataFrame({\u001b[38;5;124m\"\u001b[39m\u001b[38;5;124mK-Value\u001b[39m\u001b[38;5;124m\"\u001b[39m:k_values,\u001b[38;5;124m\"\u001b[39m\u001b[38;5;124mAccuracy\u001b[39m\u001b[38;5;124m\"\u001b[39m: accuracies},index\u001b[38;5;241m=\u001b[39mk_values)\n\u001b[1;32m---> 17\u001b[0m \u001b[43mplty\u001b[49m\u001b[38;5;241;43m.\u001b[39;49m\u001b[43mfigure\u001b[49m\u001b[43m(\u001b[49m\u001b[43mfigsize\u001b[49m\u001b[38;5;241;43m=\u001b[39;49m\u001b[43m(\u001b[49m\u001b[38;5;241;43m40\u001b[39;49m\u001b[43m,\u001b[49m\u001b[38;5;241;43m20\u001b[39;49m\u001b[43m)\u001b[49m\u001b[43m)\u001b[49m\n\u001b[0;32m     18\u001b[0m plty\u001b[38;5;241m.\u001b[39mplot(k_values, accuracies, marker\u001b[38;5;241m=\u001b[39m\u001b[38;5;124m'\u001b[39m\u001b[38;5;124mo\u001b[39m\u001b[38;5;124m'\u001b[39m, linestyle\u001b[38;5;241m=\u001b[39m\u001b[38;5;124m'\u001b[39m\u001b[38;5;124m-\u001b[39m\u001b[38;5;124m'\u001b[39m, color\u001b[38;5;241m=\u001b[39m\u001b[38;5;124m'\u001b[39m\u001b[38;5;124mb\u001b[39m\u001b[38;5;124m'\u001b[39m)\n\u001b[0;32m     19\u001b[0m plty\u001b[38;5;241m.\u001b[39mtitle(\u001b[38;5;124m'\u001b[39m\u001b[38;5;124mk-NN Accuracy vs. Number of Neighbors (k)\u001b[39m\u001b[38;5;124m'\u001b[39m)\n",
      "\u001b[1;31mTypeError\u001b[0m: 'module' object is not callable"
     ]
    }
   ],
   "source": [
    "k_values = range(1, 100)\n",
    "accuracies = []\n",
    "\n",
    "import matplotlib as plty                                    \n",
    "\n",
    "for k in k_values:\n",
    "    knn = KNeighborsClassifier(n_neighbors=k)\n",
    "    knn.fit(x_train, y_train)\n",
    "    y_pred = knn.predict(x_test)\n",
    "    accuracy = accuracy_score(y_test, y_pred)\n",
    "    accuracies.append(accuracy)\n",
    "    # print(f\"Accuracy for k={k}: {accuracy}\")  \n",
    "            \n",
    "accuracies_df = pd.DataFrame({\"K-Value\":k_values,\"Accuracy\": accuracies},index=k_values)\n",
    "\n",
    "\n",
    "plty.figure(figsize=(40,20))\n",
    "plty.plot(k_values, accuracies, marker='o', linestyle='-', color='b')\n",
    "plty.title('k-NN Accuracy vs. Number of Neighbors (k)')\n",
    "plty.xlabel('Number of Neighbors (k)')\n",
    "plty.ylabel('Accuracy')\n",
    "plty.xticks(k_values)\n",
    "\n",
    "plty.grid(True)\n",
    "plty.show()\n",
    "\n",
    "accuracies_df   "
   ]
  },
  {
   "cell_type": "code",
   "execution_count": null,
   "id": "5d0eba46037690fc",
   "metadata": {
    "ExecuteTime": {
     "end_time": "2024-08-09T08:16:58.355437Z",
     "start_time": "2024-08-09T08:16:58.336183Z"
    }
   },
   "outputs": [
    {
     "name": "stdout",
     "output_type": "stream",
     "text": [
      "Confusion Matrix:\n",
      "[[1465 3501]\n",
      " [1554 3480]]\n",
      "Precision: 0.6193955020770663\n",
      "Recall: 0.8707209021345147\n",
      "F1 Score: 0.7238637314807065\n"
     ]
    }
   ],
   "source": [
    "from sklearn.metrics import  confusion_matrix,precision_score,recall_score,f1_score\n",
    "\n",
    "conf_mat = confusion_matrix(y_train,y_pred)\n",
    "precision = precision_score(y_test,y_pred)\n",
    "recall = recall_score(y_test,y_pred)\n",
    "f_score = f1_score(y_test,y_pred)\n",
    "\n",
    "print(f\"Confusion Matrix:\\n{conf_mat}\")\n",
    "print(f\"Precision: {precision}\")\n",
    "print(f\"Recall: {recall}\")\n",
    "print(f\"F1 Score: {f_score}\")"
   ]
  }
 ],
 "metadata": {
  "kernelspec": {
   "display_name": "Python 3 (ipykernel)",
   "language": "python",
   "name": "python3"
  },
  "language_info": {
   "codemirror_mode": {
    "name": "ipython",
    "version": 3
   },
   "file_extension": ".py",
   "mimetype": "text/x-python",
   "name": "python",
   "nbconvert_exporter": "python",
   "pygments_lexer": "ipython3",
   "version": "3.11.5"
  }
 },
 "nbformat": 4,
 "nbformat_minor": 5
}
