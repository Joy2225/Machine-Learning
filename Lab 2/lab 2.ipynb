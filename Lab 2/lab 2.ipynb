{
 "cells": [
  {
   "cell_type": "code",
   "execution_count": 2,
   "metadata": {},
   "outputs": [],
   "source": [
    "import numpy as np\n",
    "import pandas as pd"
   ]
  },
  {
   "cell_type": "code",
   "execution_count": 125,
   "metadata": {},
   "outputs": [],
   "source": [
    "def A1(name,sheet, cols):\n",
    "    data=pd.read_excel(name, sheet_name=sheet, usecols=cols)\n",
    "    return data"
   ]
  },
  {
   "cell_type": "code",
   "execution_count": 94,
   "metadata": {},
   "outputs": [],
   "source": [
    "def dimen(matrix):\n",
    "    return matrix.shape"
   ]
  },
  {
   "cell_type": "code",
   "execution_count": 106,
   "metadata": {},
   "outputs": [],
   "source": [
    "def X(quantity,cost):\n",
    "    return np.linalg.pinv(quantity)@cost"
   ]
  },
  {
   "cell_type": "code",
   "execution_count": 118,
   "metadata": {},
   "outputs": [],
   "source": [
    "def classify_rich_poor(cost):\n",
    "    a=[]\n",
    "    for i in cost:\n",
    "        if i>200:\n",
    "            a.append(\"Rich\")\n",
    "        else:    \n",
    "            a.append(\"Poor\")\n",
    "    return a"
   ]
  },
  {
   "cell_type": "code",
   "execution_count": 128,
   "metadata": {},
   "outputs": [
    {
     "name": "stdout",
     "output_type": "stream",
     "text": [
      "   Candies (#)  Mangoes (Kg)  Milk Packets (#)  Payment (Rs)\n",
      "0           20             6                 2           386\n",
      "1           16             3                 6           289\n",
      "2           27             6                 2           393\n",
      "3           19             1                 2           110\n",
      "4           24             4                 2           280\n",
      "5           22             1                 5           167\n",
      "6           15             4                 2           271\n",
      "7           18             4                 2           274\n",
      "8           21             1                 4           148\n",
      "9           16             2                 4           198\n",
      "Dimention of the data is (10, 4)\n",
      "Number of vextors in the data is 10\n",
      "Rank of matrix quantity is 3\n",
      "Items: Candies (#) Mangoes (Kg) Milk Packets (#)\n",
      "Price: [ 1. 55. 18.]\n",
      "   Candies (#)  Mangoes (Kg)  Milk Packets (#)  Payment (Rs) Class\n",
      "0           20             6                 2           386  Rich\n",
      "1           16             3                 6           289  Rich\n",
      "2           27             6                 2           393  Rich\n",
      "3           19             1                 2           110  Poor\n",
      "4           24             4                 2           280  Rich\n",
      "5           22             1                 5           167  Poor\n",
      "6           15             4                 2           271  Rich\n",
      "7           18             4                 2           274  Rich\n",
      "8           21             1                 4           148  Poor\n",
      "9           16             2                 4           198  Poor\n"
     ]
    }
   ],
   "source": [
    "if __name__ == \"__main__\":\n",
    "    data = A1(\"Lab Session Data.xlsx\",\"Purchase data\", [1,2,3,4])\n",
    "    table=data\n",
    "    print(table)\n",
    "    col= data.columns\n",
    "    data = data.to_numpy()\n",
    "    quantity = data[0:10,[0,1,2]]\n",
    "    cost = data[:,3]\n",
    "    print(\"Dimention of the data is \"+str(dimen(data)))\n",
    "    print(\"Number of vextors in the data is \"+ str(len(data)))\n",
    "    print(\"Rank of matrix quantity is \"+str(np.linalg.matrix_rank(quantity)))\n",
    "    print(\"Items: \"+str(col[0]+\" \"+col[1]+\" \"+col[2]))\n",
    "    print(\"Price: \"+str((X(quantity,cost))))\n",
    "    table[\"Class\"] = classify_rich_poor(cost)\n",
    "    print(table)\n",
    "\n",
    "\n"
   ]
  },
  {
   "cell_type": "code",
   "execution_count": 143,
   "metadata": {},
   "outputs": [
    {
     "name": "stdout",
     "output_type": "stream",
     "text": [
      "Mean of the irctc stock price is Rs.1560.6634538152598\n",
      "Variance of the irctc stock price is Rs.58496.49239931618\n",
      "Mean of the irctc stock price on wednesday is Rs.1550.7060000000001\n",
      "Mean of the irctc stock price in April is Rs.1698.9526315789474\n",
      "Probability of making a loss over the stock price is 0.4979919678714859\n",
      "Probability of making a profit on wednesday is 0.42\n"
     ]
    }
   ],
   "source": [
    "irctc_data = A1(\"Lab Session Data.xlsx\",\"IRCTC Stock Price\", [0,1,2,3,4,5,6,7,8])\n",
    "table= irctc_data\n",
    "irctc_data = irctc_data.to_numpy()\n",
    "price= irctc_data[:,3]\n",
    "print(\"Mean of the irctc stock price is Rs.\"+str(np.mean(price)))\n",
    "print(\"Variance of the irctc stock price is Rs.\"+str(np.var(price)))\n",
    "wednesday= table[table[\"Day\"]==\"Wed\"]\n",
    "wednesday_mean= np.mean(wednesday[\"Price\"])\n",
    "print(\"Mean of the irctc stock price on wednesday is Rs.\"+str(wednesday_mean))\n",
    "april_mean= np.mean(table[table[\"Month\"]==\"Apr\"][\"Price\"])\n",
    "print(\"Mean of the irctc stock price in April is Rs.\"+str(april_mean))\n",
    "change = table[\"Chg%\"].to_numpy()\n",
    "neg_change = table[table[\"Chg%\"]<0][\"Chg%\"]\n",
    "print(\"Probability of making a loss over the stock price is \"+str(len(neg_change)/len(change)))\n",
    "wed_prof = wednesday[wednesday[\"Chg%\"]>0][\"Chg%\"]\n",
    "print(\"Probability of making a profit on wednesday is \"+str(len(wed_prof)/len(wednesday)))"
   ]
  }
 ],
 "metadata": {
  "kernelspec": {
   "display_name": "Python 3",
   "language": "python",
   "name": "python3"
  },
  "language_info": {
   "codemirror_mode": {
    "name": "ipython",
    "version": 3
   },
   "file_extension": ".py",
   "mimetype": "text/x-python",
   "name": "python",
   "nbconvert_exporter": "python",
   "pygments_lexer": "ipython3",
   "version": "3.11.5"
  }
 },
 "nbformat": 4,
 "nbformat_minor": 2
}
