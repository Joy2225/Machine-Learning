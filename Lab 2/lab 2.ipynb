{
 "cells": [
  {
   "cell_type": "code",
   "execution_count": 16,
   "metadata": {},
   "outputs": [],
   "source": [
    "import numpy as np\n",
    "import pandas as pd\n",
    "import matplotlib.pyplot as plt"
   ]
  },
  {
   "cell_type": "code",
   "execution_count": 17,
   "metadata": {},
   "outputs": [],
   "source": [
    "def A1(name,sheet, cols):\n",
    "    data=pd.read_excel(name, sheet_name=sheet, usecols=cols)\n",
    "    return data"
   ]
  },
  {
   "cell_type": "code",
   "execution_count": 18,
   "metadata": {},
   "outputs": [],
   "source": [
    "def dimen(matrix):\n",
    "    return matrix.shape"
   ]
  },
  {
   "cell_type": "code",
   "execution_count": 19,
   "metadata": {},
   "outputs": [],
   "source": [
    "def X(quantity,cost):\n",
    "    return np.linalg.pinv(quantity)@cost"
   ]
  },
  {
   "cell_type": "code",
   "execution_count": 20,
   "metadata": {},
   "outputs": [],
   "source": [
    "def classify_rich_poor(cost):\n",
    "    a=[]\n",
    "    for i in cost:\n",
    "        if i>200:\n",
    "            a.append(1)\n",
    "        else:    \n",
    "            a.append(0)\n",
    "    return a"
   ]
  },
  {
   "cell_type": "code",
   "execution_count": 21,
   "metadata": {},
   "outputs": [
    {
     "name": "stdout",
     "output_type": "stream",
     "text": [
      "   Candies (#)  Mangoes (Kg)  Milk Packets (#)  Payment (Rs)\n",
      "0           20             6                 2           386\n",
      "1           16             3                 6           289\n",
      "2           27             6                 2           393\n",
      "3           19             1                 2           110\n",
      "4           24             4                 2           280\n",
      "5           22             1                 5           167\n",
      "6           15             4                 2           271\n",
      "7           18             4                 2           274\n",
      "8           21             1                 4           148\n",
      "9           16             2                 4           198\n",
      "Dimention of the data is (10, 4)\n",
      "Number of vextors in the data is 10\n",
      "Rank of matrix quantity is 3\n",
      "Items: Candies (#) Mangoes (Kg) Milk Packets (#)\n",
      "Price: [ 1. 55. 18.]\n",
      "[1, 1, 1, 0, 1, 0, 1, 1, 0, 0]\n",
      "Classification: [1. 1. 1. 0. 1. 0. 1. 1. 0. 0.]\n",
      "   Candies (#)  Mangoes (Kg)  Milk Packets (#)  Payment (Rs)\n",
      "0           20             6                 2           386\n",
      "1           16             3                 6           289\n",
      "2           27             6                 2           393\n",
      "3           19             1                 2           110\n",
      "4           24             4                 2           280\n",
      "5           22             1                 5           167\n",
      "6           15             4                 2           271\n",
      "7           18             4                 2           274\n",
      "8           21             1                 4           148\n",
      "9           16             2                 4           198\n"
     ]
    }
   ],
   "source": [
    "if __name__ == \"__main__\":\n",
    "    data = A1(\"Lab Session Data.xlsx\",\"Purchase data\", [1,2,3,4])\n",
    "    table=data\n",
    "    print(table)\n",
    "    col= data.columns\n",
    "    data = data.to_numpy()\n",
    "    quantity = data[0:10,[0,1,2]]\n",
    "    cost = data[:,3]\n",
    "    print(\"Dimention of the data is \"+str(dimen(data)))\n",
    "    print(\"Number of vextors in the data is \"+ str(len(data)))\n",
    "    print(\"Rank of matrix quantity is \"+str(np.linalg.matrix_rank(quantity)))\n",
    "    print(\"Items: \"+str(col[0]+\" \"+col[1]+\" \"+col[2]))\n",
    "    print(\"Price: \"+str((X(quantity,cost))))\n",
    "    \n",
    "    test_classify = classify_rich_poor(cost)\n",
    "    Y = np.linalg.pinv(quantity)@test_classify\n",
    "    find_classify = quantity@Y\n",
    "    for i,j in enumerate(find_classify):\n",
    "        find_classify[i]=round(j)\n",
    "    print(test_classify)\n",
    "    print(\"Classification: \"+str(find_classify))\n",
    "    print(table)\n",
    "\n",
    "\n"
   ]
  },
  {
   "cell_type": "code",
   "execution_count": 22,
   "metadata": {},
   "outputs": [
    {
     "name": "stdout",
     "output_type": "stream",
     "text": [
      "Mean of the irctc stock price is Rs.1560.6634538152598\n",
      "Variance of the irctc stock price is Rs.58496.49239931618\n",
      "Mean of the irctc stock price on wednesday is Rs.1550.7060000000001\n",
      "Mean of the irctc stock price in April is Rs.1698.9526315789474\n",
      "Probability of making a loss over the stock price is 0.4979919678714859\n",
      "Probability of making a profit on wednesday is 0.42\n",
      "Conditional probability of making a profit on wednesday given that the day is wednesday is 0.42\n"
     ]
    },
    {
     "data": {
      "image/png": "[encoded data removed]",
      "text/plain": [
       "<Figure size 640x480 with 1 Axes>"
      ]
     },
     "metadata": {},
     "output_type": "display_data"
    }
   ],
   "source": [
    "irctc_data = A1(\"Lab Session Data.xlsx\",\"IRCTC Stock Price\", [0,1,2,3,4,5,6,7,8])\n",
    "table= irctc_data\n",
    "irctc_data = irctc_data.to_numpy()\n",
    "price= irctc_data[:,3]\n",
    "print(\"Mean of the irctc stock price is Rs.\"+str(np.mean(price)))\n",
    "print(\"Variance of the irctc stock price is Rs.\"+str(np.var(price)))\n",
    "\n",
    "wednesday= table[table[\"Day\"]==\"Wed\"]\n",
    "wednesday_mean= np.mean(wednesday[\"Price\"])\n",
    "\n",
    "print(\"Mean of the irctc stock price on wednesday is Rs.\"+str(wednesday_mean))\n",
    "\n",
    "april_mean= np.mean(table[table[\"Month\"]==\"Apr\"][\"Price\"])\n",
    "print(\"Mean of the irctc stock price in April is Rs.\"+str(april_mean))\n",
    "\n",
    "change = table[\"Chg%\"].to_numpy()\n",
    "neg_change = table[table[\"Chg%\"]<0][\"Chg%\"]\n",
    "print(\"Probability of making a loss over the stock price is \"+str(len(neg_change)/len(change)))\n",
    "\n",
    "wed_prof = wednesday[wednesday[\"Chg%\"]>0][\"Chg%\"]\n",
    "print(\"Probability of making a profit on wednesday is \"+str(len(wed_prof)/len(wednesday)))\n",
    "\n",
    "cond_wed_prob = len(wednesday[wednesday[\"Chg%\"]>0])/len(wednesday)\n",
    "print(\"Conditional probability of making a profit on wednesday given that the day is wednesday is \"+str(cond_wed_prob))\n",
    "\n",
    "plt.scatter(y = table[\"Chg%\"], x = table[\"Day\"], cmap=\"viridis\", c=table[\"Chg%\"].astype(\"category\").cat.codes)\n",
    "plt.xlabel(\"Day\")\n",
    "plt.ylabel(\"Change in percentage\")\n",
    "plt.show()"
   ]
  },
  {
   "cell_type": "code",
   "execution_count": 25,
   "metadata": {},
   "outputs": [
    {
     "name": "stdout",
     "output_type": "stream",
     "text": [
      "Data type of the columns are as follows: \n",
      "Record ID : Nominal (One hot encoding)\n",
      "age : Numeric\n",
      "sex : Nominal (One hot encoding)\n",
      "on thyroxine : Nominal (One hot encoding)\n",
      "query on thyroxine : Nominal (One hot encoding)\n",
      "on antithyroid medication : Nominal (One hot encoding)\n",
      "sick : Nominal (One hot encoding)\n",
      "pregnant : Nominal (One hot encoding)\n",
      "thyroid surgery : Nominal (One hot encoding)\n",
      "I131 treatment : Nominal (One hot encoding)\n",
      "query hypothyroid : Nominal (One hot encoding)\n",
      "query hyperthyroid : Nominal (One hot encoding)\n",
      "lithium : Nominal (One hot encoding)\n",
      "goitre : Nominal (One hot encoding)\n",
      "tumor : Nominal (One hot encoding)\n",
      "hypopituitary : Nominal (One hot encoding)\n",
      "psych : Nominal (One hot encoding)\n",
      "TSH measured : Nominal (One hot encoding)\n",
      "TSH : Numeric\n",
      "T3 measured : Nominal (One hot encoding)\n",
      "T3 : Numeric\n",
      "TT4 measured : Nominal (One hot encoding)\n",
      "TT4 : Numeric\n",
      "T4U measured : Nominal (One hot encoding)\n",
      "T4U : Numeric\n",
      "FTI measured : Nominal (One hot encoding)\n",
      "FTI : Numeric\n",
      "TBG measured : Nominal (One hot encoding)\n",
      "TBG : Numeric\n",
      "referral source : Nominal (One hot encoding)\n",
      "Condition : Ordinal (Label encoding)\n"
     ]
    }
   ],
   "source": [
    "thyroid = A1(\"Lab Session Data.xlsx\",\"thyroid0387_UCI\", \"A:AE\")\n",
    "col= thyroid.columns\n",
    "datatype = [\"Nominal\", \"Numeric\", \"Nominal\", \"Nominal\", \"Nominal\",\"Nominal\",\"Nominal\",\"Nominal\",\"Nominal\",\"Nominal\",\"Nominal\",\"Nominal\",\"Nominal\",\"Nominal\",\"Nominal\",\"Nominal\",\"Nominal\",\"Nominal\", \"Numeric\", \"Nominal\", \"Numeric\", \"Nominal\", \"Numeric\", \"Nominal\", \"Numeric\",\"Nominal\", \"Numeric\", \"Nominal\", \"Numeric\", \"Nominal\",\"Ordinal\"]\n",
    "print(\"Data type of the columns are as follows: \")\n",
    "for i,j in zip(col,datatype):\n",
    "    if j==\"Nominal\":\n",
    "        print(i+\" : \"+j+\" (One hot encoding)\")\n",
    "    elif j==\"Ordinal\":\n",
    "        print(i+\" : \"+j+\" (Label encoding)\")\n",
    "    else:\n",
    "        print(i+\" : \"+j)"
   ]
  },
  {
   "cell_type": "code",
   "execution_count": 26,
   "metadata": {},
   "outputs": [],
   "source": [
    "cat_col=[]\n",
    "num_col=[]\n",
    "for i,j in enumerate(col):\n",
    "    if datatype[i]==\"Numeric\":\n",
    "        num_col.append(j)\n",
    "    else:  \n",
    "        cat_col.append(j)\n",
    "\n"
   ]
  },
  {
   "cell_type": "code",
   "execution_count": 64,
   "metadata": {},
   "outputs": [
    {
     "name": "stdout",
     "output_type": "stream",
     "text": [
      "Data ranges of numeric data\n",
      "age : 1 - 65526\n",
      "TSH : 0.005 - 530.0\n",
      "T3 : 0.05 - 18.0\n",
      "TT4 : 2.0 - 600.0\n",
      "T4U : 0.17 - 2.33\n",
      "FTI : 1.4 - 881.0\n",
      "TBG : 0.1 - 200.0\n"
     ]
    }
   ],
   "source": [
    "print(\"Data ranges of numeric data\")\n",
    "\n",
    "for i in num_col:\n",
    "    thyroid[i] = pd.to_numeric(thyroid[i])\n",
    "\n",
    "for i in num_col:\n",
    "    print(i + \" : \" + str(thyroid[i].min()) + \" - \" + str(thyroid[i].max()))\n"
   ]
  },
  {
   "cell_type": "code",
   "execution_count": 42,
   "metadata": {},
   "outputs": [
    {
     "name": "stdout",
     "output_type": "stream",
     "text": [
      "Record ID                       0\n",
      "age                             0\n",
      "sex                           307\n",
      "on thyroxine                    0\n",
      "query on thyroxine              0\n",
      "on antithyroid medication       0\n",
      "sick                            0\n",
      "pregnant                        0\n",
      "thyroid surgery                 0\n",
      "I131 treatment                  0\n",
      "query hypothyroid               0\n",
      "query hyperthyroid              0\n",
      "lithium                         0\n",
      "goitre                          0\n",
      "tumor                           0\n",
      "hypopituitary                   0\n",
      "psych                           0\n",
      "TSH measured                    0\n",
      "TSH                           842\n",
      "T3 measured                     0\n",
      "T3                           2604\n",
      "TT4 measured                    0\n",
      "TT4                           442\n",
      "T4U measured                    0\n",
      "T4U                           809\n",
      "FTI measured                    0\n",
      "FTI                           802\n",
      "TBG measured                    0\n",
      "TBG                          8823\n",
      "referral source                 0\n",
      "Condition                       0\n",
      "dtype: int64\n"
     ]
    }
   ],
   "source": [
    "for i in cat_col:\n",
    "    thyroid[i] = thyroid[i].replace('?', np.NaN)\n",
    "\n",
    "print(thyroid.isnull().sum())"
   ]
  },
  {
   "cell_type": "code",
   "execution_count": 47,
   "metadata": {},
   "outputs": [
    {
     "name": "stdout",
     "output_type": "stream",
     "text": [
      "age: Number of outliers found: 3\n",
      "TSH: Number of outliers found: 100\n",
      "T3: Number of outliers found: 86\n",
      "TT4: Number of outliers found: 101\n",
      "T4U: Number of outliers found: 172\n",
      "FTI: Number of outliers found: 95\n",
      "TBG: Number of outliers found: 11\n"
     ]
    }
   ],
   "source": [
    "\n",
    "from scipy import stats\n",
    "for i in num_col:\n",
    "    z_score = np.abs(stats.zscore(thyroid[i].dropna()))\n",
    "    outlier_indices = np.where(z_score>3)[0]\n",
    "    if len(outlier_indices) >= 0:\n",
    "        print(i + \": Number of outliers found: \" + str(len(outlier_indices)))"
   ]
  },
  {
   "cell_type": "code",
   "execution_count": 48,
   "metadata": {},
   "outputs": [
    {
     "name": "stdout",
     "output_type": "stream",
     "text": [
      "Mean and variance for numeric columns\n",
      "age : Mean: 73.55582206716092 Variance: 1401800.868871345\n",
      "TSH : Mean: 5.218402753781513 Variance: 584.8661532092907\n",
      "T3 : Mean: 1.970628805724726 Variance: 0.7877961683561557\n",
      "TT4 : Mean: 108.70030469644902 Variance: 1407.950791475485\n",
      "T4U : Mean: 0.9760557216309935 Variance: 0.04014430639006457\n",
      "FTI : Mean: 113.64074551935484 Variance: 1726.5395850611546\n",
      "TBG : Mean: 29.87005729512894 Variance: 444.3876429994665\n"
     ]
    }
   ],
   "source": [
    "print(\"Mean and variance for numeric columns\")\n",
    "for i in num_col:\n",
    "    print(i + \" : Mean: \" + str(thyroid[i].mean()) + \" Variance: \" + str(thyroid[i].var()))"
   ]
  },
  {
   "cell_type": "code",
   "execution_count": 68,
   "metadata": {},
   "outputs": [
    {
     "name": "stdout",
     "output_type": "stream",
     "text": [
      "Imputed data\n",
      "      Record ID  age sex on thyroxine query on thyroxine  \\\n",
      "0     840801013   29   F            f                  f   \n",
      "1     840801014   29   F            f                  f   \n",
      "2     840801042   41   F            f                  f   \n",
      "3     840803046   36   F            f                  f   \n",
      "4     840803047   32   F            f                  f   \n",
      "...         ...  ...  ..          ...                ...   \n",
      "9167  870119022   56   M            f                  f   \n",
      "9168  870119023   22   M            f                  f   \n",
      "9169  870119025   69   M            f                  f   \n",
      "9170  870119027   47   F            f                  f   \n",
      "9171  870119035   31   M            f                  f   \n",
      "\n",
      "     on antithyroid medication sick pregnant thyroid surgery I131 treatment  \\\n",
      "0                            f    f        f               f              f   \n",
      "1                            f    f        f               f              f   \n",
      "2                            f    f        f               f              f   \n",
      "3                            f    f        f               f              f   \n",
      "4                            f    f        f               f              f   \n",
      "...                        ...  ...      ...             ...            ...   \n",
      "9167                         f    f        f               f              f   \n",
      "9168                         f    f        f               f              f   \n",
      "9169                         f    f        f               f              f   \n",
      "9170                         f    f        f               f              f   \n",
      "9171                         f    f        f               f              f   \n",
      "\n",
      "      ... TT4 measured    TT4 T4U measured   T4U FTI measured    FTI  \\\n",
      "0     ...            f  104.0            f  0.96            f  109.0   \n",
      "1     ...            t  128.0            f  0.96            f  109.0   \n",
      "2     ...            f  104.0            f  0.96            f  109.0   \n",
      "3     ...            f  104.0            f  0.96            f  109.0   \n",
      "4     ...            f  104.0            f  0.96            f  109.0   \n",
      "...   ...          ...    ...          ...   ...          ...    ...   \n",
      "9167  ...            t   64.0            t  0.83            t   77.0   \n",
      "9168  ...            t   91.0            t  0.92            t   99.0   \n",
      "9169  ...            t  113.0            t  1.27            t   89.0   \n",
      "9170  ...            t   75.0            t  0.85            t   88.0   \n",
      "9171  ...            t   66.0            t  1.02            t   65.0   \n",
      "\n",
      "     TBG measured   TBG  referral source     Condition  \n",
      "0               f  26.0            other  NO CONDITION  \n",
      "1               f  26.0            other  NO CONDITION  \n",
      "2               t  11.0            other  NO CONDITION  \n",
      "3               t  26.0            other  NO CONDITION  \n",
      "4               t  36.0            other             S  \n",
      "...           ...   ...              ...           ...  \n",
      "9167            f  26.0              SVI  NO CONDITION  \n",
      "9168            f  26.0              SVI  NO CONDITION  \n",
      "9169            f  26.0              SVI             I  \n",
      "9170            f  26.0            other  NO CONDITION  \n",
      "9171            f  26.0            other  NO CONDITION  \n",
      "\n",
      "[9172 rows x 31 columns]\n"
     ]
    }
   ],
   "source": [
    "imputed_thyroid = thyroid.copy()\n",
    "for i,j in enumerate(datatype):\n",
    "    col_name = col[i]\n",
    "    if j == \"Nominal\" or j == \"Ordinal\":\n",
    "        imputed_thyroid[col_name] = imputed_thyroid[col_name].fillna(imputed_thyroid[col_name].mode()[0])\n",
    "    else:\n",
    "        imputed_thyroid[col_name] = imputed_thyroid[col_name].fillna(imputed_thyroid[col_name].median())\n",
    "\n",
    "print(\"Imputed data\")\n",
    "print(imputed_thyroid)"
   ]
  },
  {
   "cell_type": "code",
   "execution_count": null,
   "metadata": {},
   "outputs": [],
   "source": []
  }
 ],
 "metadata": {
  "kernelspec": {
   "display_name": "Python 3",
   "language": "python",
   "name": "python3"
  },
  "language_info": {
   "codemirror_mode": {
    "name": "ipython",
    "version": 3
   },
   "file_extension": ".py",
   "mimetype": "text/x-python",
   "name": "python",
   "nbconvert_exporter": "python",
   "pygments_lexer": "ipython3",
   "version": "3.11.5"
  }
 },
 "nbformat": 4,
 "nbformat_minor": 2
}
