{
 "cells": [
  {
   "cell_type": "code",
   "execution_count": 1,
   "id": "1981c9b649633f83",
   "metadata": {
    "ExecuteTime": {
     "end_time": "2024-08-14T00:39:43.003323Z",
     "start_time": "2024-08-14T00:39:17.478370Z"
    }
   },
   "outputs": [],
   "source": [
    "import os\n",
    "from concurrent.futures import as_completed, ThreadPoolExecutor\n",
    "\n",
    "import cv2\n",
    "import matplotlib.pyplot as plt\n",
    "import numpy as np\n",
    "import pandas as pd\n",
    "from scipy import fft\n",
    "from sklearn.model_selection import train_test_split\n",
    "\n",
    "\n",
    "def to_gray(image):\n",
    "    # Convert the input image to grayscale\n",
    "    return cv2.cvtColor(image, cv2.COLOR_BGR2GRAY)\n",
    "\n",
    "\n",
    "def load_img_with_features(filepath):\n",
    "    # Read the image from the specified file path\n",
    "    img = cv2.imread(filepath)\n",
    "    # Convert the image to grayscale\n",
    "    gray_img = to_gray(img)\n",
    "    # Compute the absolute value of the 2D FFT of the grayscale image and flatten the result\n",
    "    features = np.abs(fft.fft2(gray_img)).flatten()\n",
    "    # Return the first FFT coefficient (DC component), the rest of the coefficients, and all features\n",
    "    return features[0], features[1:], features\n",
    "\n",
    "\n",
    "def load_imgs_from_directory(directory, num_images=None):\n",
    "    # Initialize lists to store DC values, DC dash values, and features\n",
    "    dc_val = []\n",
    "    dc_dash_val = []\n",
    "    features_1 = []\n",
    "    # Get the list of all files in the specified directory\n",
    "    files = os.listdir(directory)\n",
    "    # Limit the number of files to the specified number if provided\n",
    "    if num_images is not None:\n",
    "        files = files[:num_images]\n",
    "    # Use ThreadPoolExecutor to process images concurrently\n",
    "    with ThreadPoolExecutor() as executor:\n",
    "        # Submit tasks to executor for loading images and extracting features\n",
    "        futures = [executor.submit(load_img_with_features, os.path.join(directory, filename)) for filename in files]\n",
    "        # Process each future as it completes\n",
    "        for future in as_completed(futures):\n",
    "            dc, dc_dash, features = future.result()\n",
    "            features_1.append(features)\n",
    "            dc_val.append(dc)\n",
    "            dc_dash_val.append(dc_dash)\n",
    "    # Return lists of DC values, DC dash values, and extracted features\n",
    "    return dc_val, dc_dash_val, features_1\n",
    "\n",
    "\n",
    "# Define directories for fake and real images\n",
    "fake_dir = \"E:\\\\College\\\\5th Sem\\\\ML\\\\Lab\\\\train\\\\FAKE\"\n",
    "real_dir = \"E:\\\\College\\\\5th Sem\\\\ML\\\\Lab\\\\train\\\\REAL\"\n"
   ]
  },
  {
   "cell_type": "code",
   "execution_count": 2,
   "id": "139ee72b",
   "metadata": {},
   "outputs": [],
   "source": [
    "# Set the number of images to load from each directory\n",
    "num_images_to_load = 10000\n",
    "\n",
    "# Load images from the fake directory and extract DC values, DC dash values, and features\n",
    "DC_vals_train, DC_dash_train, features_fake = load_imgs_from_directory(fake_dir, num_images=num_images_to_load)\n",
    "\n",
    "# Load images from the real directory and extract DC values, DC dash values, and features\n",
    "DC_vals_test, DC_dash_test, features_real = load_imgs_from_directory(real_dir, num_images=num_images_to_load)\n",
    "\n",
    "# print(len(DC_dash_test))\n",
    "# print(len(DC_dash_train))\n",
    "# print(len(DC_vals_test))\n",
    "# print(len(DC_vals_train))\n",
    "\n",
    "# Concatenate DC values from both the test and train datasets\n",
    "dc_val = np.concatenate((DC_vals_test, DC_vals_train))\n",
    "\n",
    "# Stack DC dash values vertically from both datasets\n",
    "dc_dash = np.vstack((DC_dash_test, DC_dash_train))\n",
    "\n",
    "# Stack feature arrays vertically from both the fake and real datasets\n",
    "features = np.vstack((features_fake, features_real))\n",
    "\n",
    "# print(len(dc_dash))\n",
    "# print(len(dc_val))\n"
   ]
  },
  {
   "cell_type": "code",
   "execution_count": 3,
   "id": "7d51ac62662237ef",
   "metadata": {
    "ExecuteTime": {
     "end_time": "2024-08-14T00:49:02.707823Z",
     "start_time": "2024-08-14T00:49:02.419820Z"
    }
   },
   "outputs": [],
   "source": [
    "# Split the dataset into training and testing sets\n",
    "# `dc_dash` is the feature matrix, `dc_val` is the target variable\n",
    "# `test_size=0.5` means 50% of the data will be used for testing\n",
    "# `random_state=32` ensures the split is reproducible\n",
    "X_train, X_test, y_train, y_test = train_test_split(dc_dash, dc_val, test_size=0.5, random_state=32)\n"
   ]
  },
  {
   "cell_type": "code",
   "execution_count": 4,
   "id": "985fa065",
   "metadata": {},
   "outputs": [],
   "source": [
    "from sklearn.linear_model import LinearRegression"
   ]
  },
  {
   "cell_type": "code",
   "execution_count": 5,
   "id": "87bc94d9",
   "metadata": {},
   "outputs": [],
   "source": [
    "# Create and train a Linear Regression model using the training data\n",
    "reg = LinearRegression().fit(X_train, y_train)\n",
    "\n",
    "# Predict the target values (DC values) for the test dataset using the trained model\n",
    "y_train_pred = reg.predict(X_test)\n"
   ]
  },
  {
   "cell_type": "code",
   "execution_count": 6,
   "id": "1ecaf5dd",
   "metadata": {},
   "outputs": [],
   "source": [
    "from sklearn.metrics import mean_squared_error, mean_absolute_percentage_error, r2_score"
   ]
  },
  {
   "cell_type": "code",
   "execution_count": 7,
   "id": "8783c6ec",
   "metadata": {},
   "outputs": [
    {
     "name": "stdout",
     "output_type": "stream",
     "text": [
      "[122228.70310533  92980.70310533 113556.70310533 ... 111988.70310533\n",
      " 129972.70310533 124276.70310533]\n",
      "[120036. 109349. 108313. ... 128765. 107447. 115445.]\n"
     ]
    }
   ],
   "source": [
    "print(y_train_pred)\n",
    "print(y_train)"
   ]
  },
  {
   "cell_type": "code",
   "execution_count": 8,
   "id": "9cfdfbb3",
   "metadata": {},
   "outputs": [
    {
     "name": "stdout",
     "output_type": "stream",
     "text": [
      "Mean Squared Error (MSE) on training data:\t882055113.2541723\n",
      "Root Mean Squared Error (RMSE) on training data:\t29699.412675239426\n",
      "Mean Absolute Percentage Error (MAPE) on training data:\t0.20935582199945157\n",
      "R^2 Score on training data:\t-0.1358188359462622\n"
     ]
    }
   ],
   "source": [
    "# Calculate Mean Squared Error (MSE) between actual and predicted values on the test data\n",
    "mse_train = mean_squared_error(y_train, y_train_pred)\n",
    "\n",
    "# Calculate Root Mean Squared Error (RMSE) on the test data\n",
    "rmse_train = np.sqrt(mse_train)\n",
    "\n",
    "# Calculate Mean Absolute Percentage Error (MAPE) between actual and predicted values on the test data\n",
    "mape_train = mean_absolute_percentage_error(y_train, y_train_pred)\n",
    "\n",
    "# Calculate R^2 Score (coefficient of determination) to evaluate the goodness of fit\n",
    "r2_train = r2_score(y_train, y_train_pred)\n",
    "\n",
    "# Print evaluation metrics for the model's performance on the training data\n",
    "print(f\"Mean Squared Error (MSE) on training data:\\t{mse_train}\")\n",
    "print(f\"Root Mean Squared Error (RMSE) on training data:\\t{rmse_train}\")\n",
    "print(f\"Mean Absolute Percentage Error (MAPE) on training data:\\t{mape_train}\")\n",
    "print(f\"R^2 Score on training data:\\t{r2_train}\")\n"
   ]
  },
  {
   "cell_type": "code",
   "execution_count": 9,
   "id": "3400e492",
   "metadata": {},
   "outputs": [],
   "source": [
    "from sklearn.cluster import KMeans\n",
    "from sklearn.metrics import silhouette_score\n",
    "from sklearn.metrics import calinski_harabasz_score\n",
    "from sklearn.metrics import davies_bouldin_score"
   ]
  },
  {
   "cell_type": "code",
   "execution_count": 10,
   "id": "be66d0b5",
   "metadata": {},
   "outputs": [
    {
     "name": "stdout",
     "output_type": "stream",
     "text": [
      "[0 1 0 ... 0 1 1]\n",
      "[[101663.29714235   9971.97295818   5270.39250083 ...   2809.02480181\n",
      "    3996.98661801   6821.22746178]\n",
      " [144914.35707689  10115.02619139   5292.95889505 ...   2748.12844775\n",
      "    4014.61243079   6949.87767169]]\n"
     ]
    },
    {
     "data": {
      "text/plain": [
       "7863.661765396808"
      ]
     },
     "execution_count": 10,
     "metadata": {},
     "output_type": "execute_result"
    }
   ],
   "source": [
    "# Perform KMeans clustering on the feature set\n",
    "# `n_clusters=2` indicates the number of clusters to form (in this case, 2)\n",
    "# `random_state=0` ensures reproducibility of results\n",
    "# `n_init=\"auto\"` automatically determines the number of initializations for clustering\n",
    "kmeans = KMeans(n_clusters=2, random_state=0, n_init=\"auto\").fit(features)\n",
    "\n",
    "# Print the labels assigned to each sample (indicating the cluster each sample belongs to)\n",
    "print(kmeans.labels_)\n",
    "\n",
    "# Print the coordinates of the cluster centers\n",
    "print(kmeans.cluster_centers_)\n",
    "\n",
    "# Compute the Calinski-Harabasz score to evaluate the clustering quality\n",
    "# The higher the score, the better-defined the clusters are\n",
    "calinski_harabasz_score(features, kmeans.labels_)\n"
   ]
  },
  {
   "cell_type": "code",
   "execution_count": 11,
   "id": "99ceda47",
   "metadata": {},
   "outputs": [],
   "source": [
    "def kmeans_wrapper(n_clusters, X):\n",
    "    # Perform KMeans clustering on the dataset X with the specified number of clusters\n",
    "    # `n_clusters` defines the number of clusters to form\n",
    "    # `random_state=32` ensures the clustering results are reproducible\n",
    "    kmeans = KMeans(n_clusters=n_clusters, random_state=32).fit(X)\n",
    "    \n",
    "    # Print the cluster labels assigned to each data point\n",
    "    print(kmeans.labels_)\n",
    "    \n",
    "    # Return a dictionary containing:\n",
    "    # - \"labels\": The cluster labels for each data point\n",
    "    # - \"centres\": The coordinates of the cluster centers\n",
    "    # - \"inertia\": The sum of squared distances of samples to their closest cluster center\n",
    "    return {\n",
    "        \"labels\": kmeans.labels_,\n",
    "        \"centres\": kmeans.cluster_centers_,\n",
    "        \"inertia\": kmeans.inertia_,\n",
    "    }\n"
   ]
  },
  {
   "cell_type": "code",
   "execution_count": 18,
   "id": "7d7a5cd1",
   "metadata": {},
   "outputs": [],
   "source": [
    "def get_scores(X, start, end):\n",
    "    # Initialize a dictionary to store clustering scores and distortions for different numbers of clusters\n",
    "    results = {\n",
    "        \"Davies-Bouldin Score\": [],    # To store Davies-Bouldin scores\n",
    "        \"Silhouette Score\": [],        # To store Silhouette scores\n",
    "        \"Calinski-Harabasz Score\": [], # To store Calinski-Harabasz scores\n",
    "        \"distortions\": [],             # To store inertia (within-cluster sum of squares)\n",
    "        \"K\": list(range(start, end))   # Range of cluster numbers to evaluate\n",
    "    }\n",
    "    \n",
    "    # Loop over the range of cluster numbers\n",
    "    for i in range(start, end):\n",
    "        # Get the clustering results for the current number of clusters\n",
    "        labels, centres, inertia = kmeans_wrapper(i, X).values()\n",
    "        n_labels = len(set(labels))  # Number of unique clusters\n",
    "\n",
    "        # Calculate the scores only if more than one cluster is formed\n",
    "        if n_labels > 1:\n",
    "            # Append the Calinski-Harabasz score for current clustering\n",
    "            results[\"Calinski-Harabasz Score\"].append(calinski_harabasz_score(X, labels))\n",
    "            \n",
    "            # Append the Silhouette score for current clustering\n",
    "            results[\"Silhouette Score\"].append(silhouette_score(X, labels))\n",
    "            \n",
    "            # Append the Davies-Bouldin score for current clustering\n",
    "            results[\"Davies-Bouldin Score\"].append(davies_bouldin_score(X, labels))\n",
    "        \n",
    "        # Append the distortion (inertia) for current clustering\n",
    "        results[\"distortions\"].append(inertia)\n",
    "    \n",
    "    # Return the dictionary containing all scores and distortions\n",
    "    return results\n"
   ]
  },
  {
   "cell_type": "code",
   "execution_count": 19,
   "id": "00dfd9d2",
   "metadata": {},
   "outputs": [
    {
     "data": {
      "text/plain": [
       "array([[106979.        ,   3892.20315557,   3644.34430744, ...,\n",
       "          4524.1444969 ,   5072.40688809,   8376.08616131],\n",
       "       [124959.        ,  14672.1972386 ,   2922.10747745, ...,\n",
       "          2922.89157649,   9377.08965318,  11504.5739285 ],\n",
       "       [ 85520.        ,  10736.78322302,   6645.63780205, ...,\n",
       "           543.61670117,   4305.37428453,   3961.60418154],\n",
       "       ...,\n",
       "       [ 77181.        ,   2870.65557877,   3171.85725784, ...,\n",
       "          1823.95496442,   6630.43065552,  12190.31032044],\n",
       "       [167738.        ,   8304.27830827,   3693.27266513, ...,\n",
       "          5250.026441  ,   4124.60159029,   3390.18982707],\n",
       "       [145783.        ,  10534.6195036 ,   3075.74426642, ...,\n",
       "          1253.72821632,   3000.51901321,   6429.66485748]])"
      ]
     },
     "execution_count": 19,
     "metadata": {},
     "output_type": "execute_result"
    }
   ],
   "source": [
    "features"
   ]
  },
  {
   "cell_type": "code",
   "execution_count": 20,
   "id": "527dc2bb",
   "metadata": {},
   "outputs": [
    {
     "name": "stdout",
     "output_type": "stream",
     "text": [
      "[0 1 0 ... 0 1 1]\n",
      "[2 0 2 ... 2 1 1]\n",
      "[2 0 2 ... 2 1 0]\n",
      "[2 0 2 ... 2 1 4]\n",
      "[0 1 0 ... 2 5 4]\n",
      "[3 1 3 ... 2 5 6]\n",
      "[0 1 4 ... 2 5 6]\n",
      "[4 7 4 ... 2 5 8]\n",
      "[2 7 2 ... 9 0 8]\n",
      "[ 4  3  4 ...  9  5 10]\n",
      "[ 0  1  4 ...  9  7 10]\n",
      "[ 4  1  4 ...  9  5 10]\n",
      "[ 0  3  4 ...  9  7 10]\n",
      "[ 4  3  4 ... 11  5 10]\n",
      "[ 4  3  4 ... 11  5 10]\n",
      "[16  3 16 ... 11  5 10]\n",
      "[16  3  2 ... 11  5 10]\n",
      "[16  1  2 ... 11  5 10]\n",
      "[16  1 16 ... 11  5 10]\n",
      "[ 3  7 20 ... 13 12 17]\n",
      "[ 3  7 20 ... 13 12 17]\n",
      "[ 1  7 20 ... 13 12 17]\n",
      "[ 1  7 20 ... 13  9 14]\n"
     ]
    }
   ],
   "source": [
    "results_df = pd.DataFrame(get_scores(features, 2, 25))"
   ]
  },
  {
   "cell_type": "code",
   "execution_count": 15,
   "id": "3d4332b8",
   "metadata": {},
   "outputs": [],
   "source": [
    "import seaborn as sns"
   ]
  },
  {
   "cell_type": "code",
   "execution_count": 21,
   "id": "0e388a3e",
   "metadata": {},
   "outputs": [
    {
     "data": {
      "text/html": [
       "<div>\n",
       "<style scoped>\n",
       "    .dataframe tbody tr th:only-of-type {\n",
       "        vertical-align: middle;\n",
       "    }\n",
       "\n",
       "    .dataframe tbody tr th {\n",
       "        vertical-align: top;\n",
       "    }\n",
       "\n",
       "    .dataframe thead th {\n",
       "        text-align: right;\n",
       "    }\n",
       "</style>\n",
       "<table border=\"1\" class=\"dataframe\">\n",
       "  <thead>\n",
       "    <tr style=\"text-align: right;\">\n",
       "      <th></th>\n",
       "      <th>Davies-Bouldin Score</th>\n",
       "      <th>Silhouette Score</th>\n",
       "      <th>Calinski-Harabasz Score</th>\n",
       "      <th>distortions</th>\n",
       "      <th>K</th>\n",
       "    </tr>\n",
       "  </thead>\n",
       "  <tbody>\n",
       "    <tr>\n",
       "      <th>0</th>\n",
       "      <td>1.524170</td>\n",
       "      <td>0.232122</td>\n",
       "      <td>7863.660642</td>\n",
       "      <td>2.380523e+13</td>\n",
       "      <td>2</td>\n",
       "    </tr>\n",
       "    <tr>\n",
       "      <th>1</th>\n",
       "      <td>1.783593</td>\n",
       "      <td>0.160861</td>\n",
       "      <td>5859.163327</td>\n",
       "      <td>2.091166e+13</td>\n",
       "      <td>3</td>\n",
       "    </tr>\n",
       "    <tr>\n",
       "      <th>2</th>\n",
       "      <td>1.944974</td>\n",
       "      <td>0.148676</td>\n",
       "      <td>4751.012144</td>\n",
       "      <td>1.936366e+13</td>\n",
       "      <td>4</td>\n",
       "    </tr>\n",
       "    <tr>\n",
       "      <th>3</th>\n",
       "      <td>1.885886</td>\n",
       "      <td>0.145133</td>\n",
       "      <td>4159.947306</td>\n",
       "      <td>1.810175e+13</td>\n",
       "      <td>5</td>\n",
       "    </tr>\n",
       "    <tr>\n",
       "      <th>4</th>\n",
       "      <td>1.983501</td>\n",
       "      <td>0.124892</td>\n",
       "      <td>3670.427052</td>\n",
       "      <td>1.729302e+13</td>\n",
       "      <td>6</td>\n",
       "    </tr>\n",
       "    <tr>\n",
       "      <th>5</th>\n",
       "      <td>1.931492</td>\n",
       "      <td>0.109915</td>\n",
       "      <td>3359.919038</td>\n",
       "      <td>1.651422e+13</td>\n",
       "      <td>7</td>\n",
       "    </tr>\n",
       "    <tr>\n",
       "      <th>6</th>\n",
       "      <td>1.983999</td>\n",
       "      <td>0.105142</td>\n",
       "      <td>3053.939047</td>\n",
       "      <td>1.602758e+13</td>\n",
       "      <td>8</td>\n",
       "    </tr>\n",
       "    <tr>\n",
       "      <th>7</th>\n",
       "      <td>2.005762</td>\n",
       "      <td>0.090546</td>\n",
       "      <td>2817.639887</td>\n",
       "      <td>1.558871e+13</td>\n",
       "      <td>9</td>\n",
       "    </tr>\n",
       "    <tr>\n",
       "      <th>8</th>\n",
       "      <td>2.030079</td>\n",
       "      <td>0.087317</td>\n",
       "      <td>2608.895798</td>\n",
       "      <td>1.525160e+13</td>\n",
       "      <td>10</td>\n",
       "    </tr>\n",
       "    <tr>\n",
       "      <th>9</th>\n",
       "      <td>2.055199</td>\n",
       "      <td>0.087282</td>\n",
       "      <td>2432.702025</td>\n",
       "      <td>1.495971e+13</td>\n",
       "      <td>11</td>\n",
       "    </tr>\n",
       "    <tr>\n",
       "      <th>10</th>\n",
       "      <td>2.108928</td>\n",
       "      <td>0.084156</td>\n",
       "      <td>2272.716255</td>\n",
       "      <td>1.473556e+13</td>\n",
       "      <td>12</td>\n",
       "    </tr>\n",
       "    <tr>\n",
       "      <th>11</th>\n",
       "      <td>2.181785</td>\n",
       "      <td>0.080097</td>\n",
       "      <td>2139.197893</td>\n",
       "      <td>1.451876e+13</td>\n",
       "      <td>13</td>\n",
       "    </tr>\n",
       "    <tr>\n",
       "      <th>12</th>\n",
       "      <td>2.182153</td>\n",
       "      <td>0.070138</td>\n",
       "      <td>2029.068784</td>\n",
       "      <td>1.429680e+13</td>\n",
       "      <td>14</td>\n",
       "    </tr>\n",
       "    <tr>\n",
       "      <th>13</th>\n",
       "      <td>2.200969</td>\n",
       "      <td>0.070078</td>\n",
       "      <td>1932.921537</td>\n",
       "      <td>1.408884e+13</td>\n",
       "      <td>15</td>\n",
       "    </tr>\n",
       "    <tr>\n",
       "      <th>14</th>\n",
       "      <td>2.160517</td>\n",
       "      <td>0.067906</td>\n",
       "      <td>1842.034100</td>\n",
       "      <td>1.391989e+13</td>\n",
       "      <td>16</td>\n",
       "    </tr>\n",
       "    <tr>\n",
       "      <th>15</th>\n",
       "      <td>2.206201</td>\n",
       "      <td>0.068463</td>\n",
       "      <td>1755.966049</td>\n",
       "      <td>1.378488e+13</td>\n",
       "      <td>17</td>\n",
       "    </tr>\n",
       "    <tr>\n",
       "      <th>16</th>\n",
       "      <td>2.222720</td>\n",
       "      <td>0.066722</td>\n",
       "      <td>1686.747614</td>\n",
       "      <td>1.362037e+13</td>\n",
       "      <td>18</td>\n",
       "    </tr>\n",
       "    <tr>\n",
       "      <th>17</th>\n",
       "      <td>2.202003</td>\n",
       "      <td>0.064338</td>\n",
       "      <td>1615.555905</td>\n",
       "      <td>1.350745e+13</td>\n",
       "      <td>19</td>\n",
       "    </tr>\n",
       "    <tr>\n",
       "      <th>18</th>\n",
       "      <td>2.195166</td>\n",
       "      <td>0.059272</td>\n",
       "      <td>1560.483514</td>\n",
       "      <td>1.335215e+13</td>\n",
       "      <td>20</td>\n",
       "    </tr>\n",
       "    <tr>\n",
       "      <th>19</th>\n",
       "      <td>2.239190</td>\n",
       "      <td>0.057553</td>\n",
       "      <td>1499.744288</td>\n",
       "      <td>1.325939e+13</td>\n",
       "      <td>21</td>\n",
       "    </tr>\n",
       "    <tr>\n",
       "      <th>20</th>\n",
       "      <td>2.305622</td>\n",
       "      <td>0.058525</td>\n",
       "      <td>1447.279139</td>\n",
       "      <td>1.315423e+13</td>\n",
       "      <td>22</td>\n",
       "    </tr>\n",
       "    <tr>\n",
       "      <th>21</th>\n",
       "      <td>2.299965</td>\n",
       "      <td>0.054620</td>\n",
       "      <td>1403.535526</td>\n",
       "      <td>1.302840e+13</td>\n",
       "      <td>23</td>\n",
       "    </tr>\n",
       "    <tr>\n",
       "      <th>22</th>\n",
       "      <td>2.286247</td>\n",
       "      <td>0.055510</td>\n",
       "      <td>1354.559312</td>\n",
       "      <td>1.295741e+13</td>\n",
       "      <td>24</td>\n",
       "    </tr>\n",
       "  </tbody>\n",
       "</table>\n",
       "</div>"
      ],
      "text/plain": [
       "    Davies-Bouldin Score  Silhouette Score  Calinski-Harabasz Score  \\\n",
       "0               1.524170          0.232122              7863.660642   \n",
       "1               1.783593          0.160861              5859.163327   \n",
       "2               1.944974          0.148676              4751.012144   \n",
       "3               1.885886          0.145133              4159.947306   \n",
       "4               1.983501          0.124892              3670.427052   \n",
       "5               1.931492          0.109915              3359.919038   \n",
       "6               1.983999          0.105142              3053.939047   \n",
       "7               2.005762          0.090546              2817.639887   \n",
       "8               2.030079          0.087317              2608.895798   \n",
       "9               2.055199          0.087282              2432.702025   \n",
       "10              2.108928          0.084156              2272.716255   \n",
       "11              2.181785          0.080097              2139.197893   \n",
       "12              2.182153          0.070138              2029.068784   \n",
       "13              2.200969          0.070078              1932.921537   \n",
       "14              2.160517          0.067906              1842.034100   \n",
       "15              2.206201          0.068463              1755.966049   \n",
       "16              2.222720          0.066722              1686.747614   \n",
       "17              2.202003          0.064338              1615.555905   \n",
       "18              2.195166          0.059272              1560.483514   \n",
       "19              2.239190          0.057553              1499.744288   \n",
       "20              2.305622          0.058525              1447.279139   \n",
       "21              2.299965          0.054620              1403.535526   \n",
       "22              2.286247          0.055510              1354.559312   \n",
       "\n",
       "     distortions   K  \n",
       "0   2.380523e+13   2  \n",
       "1   2.091166e+13   3  \n",
       "2   1.936366e+13   4  \n",
       "3   1.810175e+13   5  \n",
       "4   1.729302e+13   6  \n",
       "5   1.651422e+13   7  \n",
       "6   1.602758e+13   8  \n",
       "7   1.558871e+13   9  \n",
       "8   1.525160e+13  10  \n",
       "9   1.495971e+13  11  \n",
       "10  1.473556e+13  12  \n",
       "11  1.451876e+13  13  \n",
       "12  1.429680e+13  14  \n",
       "13  1.408884e+13  15  \n",
       "14  1.391989e+13  16  \n",
       "15  1.378488e+13  17  \n",
       "16  1.362037e+13  18  \n",
       "17  1.350745e+13  19  \n",
       "18  1.335215e+13  20  \n",
       "19  1.325939e+13  21  \n",
       "20  1.315423e+13  22  \n",
       "21  1.302840e+13  23  \n",
       "22  1.295741e+13  24  "
      ]
     },
     "execution_count": 21,
     "metadata": {},
     "output_type": "execute_result"
    }
   ],
   "source": [
    "results_df"
   ]
  },
  {
   "cell_type": "code",
   "execution_count": 27,
   "id": "c9a1af6b",
   "metadata": {},
   "outputs": [
    {
     "data": {
      "image/png": "[encoded data removed]",
      "text/plain": [
       "<Figure size 640x480 with 1 Axes>"
      ]
     },
     "metadata": {},
     "output_type": "display_data"
    },
    {
     "data": {
      "image/png": "[encoded data removed]",
      "text/plain": [
       "<Figure size 640x480 with 1 Axes>"
      ]
     },
     "metadata": {},
     "output_type": "display_data"
    },
    {
     "data": {
      "image/png": "[encoded data removed]",
      "text/plain": [
       "<Figure size 640x480 with 1 Axes>"
      ]
     },
     "metadata": {},
     "output_type": "display_data"
    },
    {
     "data": {
      "image/png": "[encoded data removed]",
      "text/plain": [
       "<Figure size 640x480 with 1 Axes>"
      ]
     },
     "metadata": {},
     "output_type": "display_data"
    }
   ],
   "source": [
    "sns.lineplot(data = results_df, x=\"K\", y=\"Davies-Bouldin Score\")\n",
    "plt.show()\n",
    "sns.lineplot(data=results_df, x=\"K\", y=\"Silhouette Score\")\n",
    "plt.show()\n",
    "sns.lineplot(data=results_df, x=\"K\", y=\"Calinski-Harabasz Score\")\n",
    "plt.show()\n",
    "sns.lineplot(data=results_df, x=\"K\", y=\"distortions\")\n",
    "plt.show()"
   ]
  }
 ],
 "metadata": {
  "kernelspec": {
   "display_name": "Python 3",
   "language": "python",
   "name": "python3"
  },
  "language_info": {
   "codemirror_mode": {
    "name": "ipython",
    "version": 3
   },
   "file_extension": ".py",
   "mimetype": "text/x-python",
   "name": "python",
   "nbconvert_exporter": "python",
   "pygments_lexer": "ipython3",
   "version": "3.12.5"
  }
 },
 "nbformat": 4,
 "nbformat_minor": 5
}
